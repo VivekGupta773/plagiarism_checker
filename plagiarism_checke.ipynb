{
  "nbformat": 4,
  "nbformat_minor": 0,
  "metadata": {
    "colab": {
      "provenance": [],
      "authorship_tag": "ABX9TyNJjCwLEGf3Om63OdH7PmEy",
      "include_colab_link": true
    },
    "kernelspec": {
      "name": "python3",
      "display_name": "Python 3"
    },
    "language_info": {
      "name": "python"
    }
  },
  "cells": [
    {
      "cell_type": "markdown",
      "metadata": {
        "id": "view-in-github",
        "colab_type": "text"
      },
      "source": [
        "<a href=\"https://colab.research.google.com/github/VivekGupta773/plagiarism_checker/blob/main/plagiarism_checke.ipynb\" target=\"_parent\"><img src=\"https://colab.research.google.com/assets/colab-badge.svg\" alt=\"Open In Colab\"/></a>"
      ]
    },
    {
      "cell_type": "code",
      "source": [
        "import string\n",
        "from collections import Counter\n",
        "\n",
        "def preprocess_text(text):\n",
        "    # Remove punctuation and convert to lowercase\n",
        "    text = text.translate(str.maketrans('', '', string.punctuation)).lower()\n",
        "    return text\n",
        "\n",
        "def calculate_similarity(file1, file2):\n",
        "    # Read the contents of the files\n",
        "    with open(file1, 'r') as f1, open(file2, 'r') as f2:\n",
        "        text1 = f1.read()\n",
        "        text2 = f2.read()\n",
        "\n",
        "    # Preprocess the texts\n",
        "    processed_text1 = preprocess_text(text1)\n",
        "    processed_text2 = preprocess_text(text2)\n",
        "\n",
        "    # Calculate word frequencies using Counter\n",
        "    word_freq1 = Counter(processed_text1.split())\n",
        "    word_freq2 = Counter(processed_text2.split())\n",
        "\n",
        "    # Calculate cosine similarity\n",
        "    common_words = set(word_freq1.keys()) & set(word_freq2.keys())\n",
        "    dot_product = sum(word_freq1[word] * word_freq2[word] for word in common_words)\n",
        "    magnitude1 = sum(word_freq1[word] ** 2 for word in word_freq1.keys())\n",
        "    magnitude2 = sum(word_freq2[word] ** 2 for word in word_freq2.keys())\n",
        "    similarity = dot_product / (magnitude1 ** 0.5 * magnitude2 ** 0.5)\n",
        "\n",
        "    return similarity\n",
        "\n",
        "# Get the file paths from the user\n",
        "file1_path = input(\"Enter the path to the first file: \")\n",
        "file2_path = input(\"Enter the path to the second file: \")\n",
        "\n",
        "# Calculate similarity\n",
        "similarity_score = calculate_similarity(file1_path, file2_path)\n",
        "\n",
        "# Output the similarity score\n",
        "print(f\"The similarity score between the two files is: {similarity_score}\")\n"
      ],
      "metadata": {
        "id": "_7ieenvV0alk"
      },
      "execution_count": null,
      "outputs": []
    },
    {
      "cell_type": "code",
      "source": [
        "import os\n",
        "from sklearn.feature_extraction.text import TfidfVectorizer\n",
        "from sklearn.metrics.pairwise import cosine_similarity\n",
        "\n",
        "# Get a list of all text files in the current directory\n",
        "student_files = [doc for doc in os.listdir() if doc.endswith('.txt')]\n",
        "\n",
        "# Read the contents of each student's text file\n",
        "student_notes = [open(_file, encoding='utf-8').read() for _file in student_files]\n",
        "\n",
        "# Function to vectorize the text using TF-IDF\n",
        "def vectorize(Text):\n",
        "    return TfidfVectorizer().fit_transform(Text).toarray()\n",
        "\n",
        "# Function to calculate cosine similarity between two documents\n",
        "def similarity(doc1, doc2):\n",
        "    return cosine_similarity([doc1, doc2])\n",
        "\n",
        "# Vectorize the student notes using TF-IDF\n",
        "vectors = vectorize(student_notes)\n",
        "s_vectors = list(zip(student_files, vectors))\n",
        "plagiarism_results = set()\n",
        "\n",
        "# Function to check plagiarism among the student notes\n",
        "def check_plagiarism():\n",
        "    global s_vectors\n",
        "    for student_a, text_vector_a in s_vectors:\n",
        "        new_vectors = s_vectors.copy()\n",
        "        current_index = new_vectors.index((student_a, text_vector_a))\n",
        "        del new_vectors[current_index]\n",
        "        for student_b, text_vector_b in new_vectors:\n",
        "            # Calculate cosine similarity between two text vectors\n",
        "            sim_score = similarity(text_vector_a, text_vector_b)[0][1]\n",
        "            # Sort the student file names alphabetically to avoid duplicates\n",
        "            student_pair = sorted((student_a, student_b))\n",
        "            # Create a tuple with student file names and similarity score\n",
        "            score = (student_pair[0], student_pair[1], sim_score)\n",
        "            # Add the tuple to plagiarism_results set\n",
        "            plagiarism_results.add(score)\n",
        "    return plagiarism_results\n",
        "\n",
        "# Print the plagiarism results\n",
        "for data in check_plagiarism():\n",
        "    print(\"Similarity data:\\n\", data)\n"
      ],
      "metadata": {
        "colab": {
          "base_uri": "https://localhost:8080/"
        },
        "id": "p1QbBg5w2Jry",
        "outputId": "8751de16-bebb-4305-b93f-85ddc872530f"
      },
      "execution_count": 12,
      "outputs": [
        {
          "output_type": "stream",
          "name": "stdout",
          "text": [
            "Similarity data:\n",
            " ('Arthur.txt', 'Ben.txt', 0.49793145667331107)\n"
          ]
        }
      ]
    }
  ]
}